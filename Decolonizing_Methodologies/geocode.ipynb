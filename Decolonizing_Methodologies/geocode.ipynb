{
 "metadata": {
  "language_info": {
   "codemirror_mode": {
    "name": "ipython",
    "version": 3
   },
   "file_extension": ".py",
   "mimetype": "text/x-python",
   "name": "python",
   "nbconvert_exporter": "python",
   "pygments_lexer": "ipython3",
   "version": "3.8.2-final"
  },
  "orig_nbformat": 2,
  "kernelspec": {
   "name": "python3",
   "display_name": "Python 3.8.2 64-bit",
   "metadata": {
    "interpreter": {
     "hash": "31f2aee4e71d21fbe5cf8b01ff0e069b9275f58929596ceb00d14d90e3e16cd6"
    }
   }
  }
 },
 "nbformat": 4,
 "nbformat_minor": 2,
 "cells": [
  {
   "cell_type": "code",
   "execution_count": 39,
   "metadata": {},
   "outputs": [
    {
     "output_type": "stream",
     "name": "stdout",
     "text": [
      "6023\n"
     ]
    }
   ],
   "source": [
    "import json\n",
    "from tqdm import tqdm\n",
    "import googlemaps\n",
    "with open(\"data.json\") as f:\n",
    "    data = json.load(f)\n",
    "print(len(data))"
   ]
  },
  {
   "cell_type": "code",
   "execution_count": 30,
   "metadata": {},
   "outputs": [
    {
     "output_type": "execute_result",
     "data": {
      "text/plain": [
       "{'id': 2116846707,\n",
       " 'date_published': '2009-10-06',\n",
       " 'citation_count': 434,\n",
       " 'estimated_citation_count': 1181,\n",
       " 'title': 'Suspending Damage: A Letter to Communities',\n",
       " 'authors': [{'DAuN': 'Eve Tuck',\n",
       "   'AuId': 2165230311,\n",
       "   'DAfN': 'State University of New York System',\n",
       "   'AfId': 1327163397}],\n",
       " 'fields': [{'DFN': 'Oppression', 'FId': 2776526686},\n",
       "  {'DFN': 'Social exclusion', 'FId': 134659438},\n",
       "  {'DFN': 'Accountability', 'FId': 2776007630},\n",
       "  {'DFN': 'Educational research', 'FId': 36727532},\n",
       "  {'DFN': 'Disadvantaged', 'FId': 2780623907},\n",
       "  {'DFN': 'Environmental ethics', 'FId': 95124753},\n",
       "  {'DFN': 'Theory of change', 'FId': 7340896},\n",
       "  {'DFN': 'Law', 'FId': 199539241},\n",
       "  {'DFN': 'Conflict resolution', 'FId': 21711469},\n",
       "  {'DFN': 'Sociology', 'FId': 144024400},\n",
       "  {'DFN': 'Perspective-taking', 'FId': 2780342009}],\n",
       " 'references': [2071275339]}"
      ]
     },
     "metadata": {},
     "execution_count": 30
    }
   ],
   "source": [
    "data[2]"
   ]
  },
  {
   "cell_type": "code",
   "execution_count": 31,
   "metadata": {},
   "outputs": [],
   "source": [
    "paper_lookup = {}\n",
    "for node in data:\n",
    "    paper_lookup[node[\"id\"]] = node"
   ]
  },
  {
   "cell_type": "code",
   "execution_count": 36,
   "metadata": {},
   "outputs": [
    {
     "output_type": "stream",
     "name": "stdout",
     "text": [
      "966\n"
     ]
    }
   ],
   "source": [
    "institutions = {}\n",
    "for node in data:\n",
    "    seen_inst_this_node = []\n",
    "    for a in node.get(\"authors\"):\n",
    "        id = a.get(\"AfId\")\n",
    "        if id and id not in seen_inst_this_node:\n",
    "            seen_inst_this_node.append(id)\n",
    "            if id not in institutions:\n",
    "                institutions[id] = {\n",
    "                    \"id\": id,\n",
    "                    \"name\": a.get(\"DAfN\"),\n",
    "                    \"n_papers\": 0,\n",
    "                    \"n_citations\": 0,\n",
    "                    \"links\": {}\n",
    "                }\n",
    "            institutions[id][\"n_papers\"] += 1\n",
    "            institutions[id][\"n_citations\"] += node[\"citation_count\"]\n",
    "            for ref in node[\"references\"]:\n",
    "                other = paper_lookup[ref]\n",
    "                for oa in other.get(\"authors\"):\n",
    "                    oid = oa.get(\"AfId\")\n",
    "                    if oid:\n",
    "                        if oid not in institutions[id][\"links\"]:\n",
    "                            institutions[id][\"links\"][oid] = 0\n",
    "                        institutions[id][\"links\"][oid] += 1\n",
    "institutions = list(institutions.values())\n",
    "print(len(institutions))"
   ]
  },
  {
   "cell_type": "code",
   "execution_count": 48,
   "metadata": {
    "tags": []
   },
   "outputs": [
    {
     "output_type": "stream",
     "name": "stderr",
     "text": [
      "100%|██████████| 966/966 [09:40<00:00,  1.66it/s]\n"
     ]
    }
   ],
   "source": [
    "gmaps = googlemaps.Client(key='INSERT_KEY_HERE')\n",
    "for inst in tqdm(institutions):\n",
    "    if \"geo\" not in inst:\n",
    "        inst[\"geo\"] = gmaps.geocode(inst[\"name\"])"
   ]
  },
  {
   "cell_type": "code",
   "execution_count": 51,
   "metadata": {},
   "outputs": [
    {
     "output_type": "stream",
     "name": "stdout",
     "text": [
      "-rw-r--r-- 1 nyou045 nyou045 1.3M Nov 26 15:16 institutions.json\n"
     ]
    }
   ],
   "source": [
    "with open(\"institutions.json\", \"w\") as f:\n",
    "    json.dump(institutions, f)\n",
    "!ls -lah institutions.json"
   ]
  }
 ]
}