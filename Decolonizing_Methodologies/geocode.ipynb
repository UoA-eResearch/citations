{
 "metadata": {
  "language_info": {
   "codemirror_mode": {
    "name": "ipython",
    "version": 3
   },
   "file_extension": ".py",
   "mimetype": "text/x-python",
   "name": "python",
   "nbconvert_exporter": "python",
   "pygments_lexer": "ipython3",
   "version": "3.6.9-final"
  },
  "orig_nbformat": 2,
  "kernelspec": {
   "name": "python36964bit29e3c49a4a324ceaaa2a919cf9d3ccc4",
   "display_name": "Python 3.6.9 64-bit"
  }
 },
 "nbformat": 4,
 "nbformat_minor": 2,
 "cells": [
  {
   "cell_type": "code",
   "execution_count": 4,
   "metadata": {},
   "outputs": [
    {
     "output_type": "stream",
     "name": "stdout",
     "text": [
      "6036\n"
     ]
    }
   ],
   "source": [
    "import json\n",
    "from tqdm import tqdm\n",
    "import os\n",
    "import googlemaps\n",
    "with open(\"data.json\") as f:\n",
    "    data = json.load(f)\n",
    "print(len(data))"
   ]
  },
  {
   "cell_type": "code",
   "execution_count": 2,
   "metadata": {},
   "outputs": [
    {
     "output_type": "execute_result",
     "data": {
      "text/plain": [
       "{'id': 2116846707,\n",
       " 'date_published': '2009-10-06',\n",
       " 'citation_count': 437,\n",
       " 'estimated_citation_count': 1191,\n",
       " 'title': 'Suspending Damage: A Letter to Communities',\n",
       " 'authors': [{'DAuN': 'Eve Tuck',\n",
       "   'AuId': 2165230311,\n",
       "   'DAfN': 'State University of New York System',\n",
       "   'AfId': 1327163397}],\n",
       " 'fields': [{'DFN': 'Oppression', 'FId': 2776526686},\n",
       "  {'DFN': 'Social exclusion', 'FId': 134659438},\n",
       "  {'DFN': 'Accountability', 'FId': 2776007630},\n",
       "  {'DFN': 'Educational research', 'FId': 36727532},\n",
       "  {'DFN': 'Disadvantaged', 'FId': 2780623907},\n",
       "  {'DFN': 'Environmental ethics', 'FId': 95124753},\n",
       "  {'DFN': 'Theory of change', 'FId': 7340896},\n",
       "  {'DFN': 'Law', 'FId': 199539241},\n",
       "  {'DFN': 'Conflict resolution', 'FId': 21711469},\n",
       "  {'DFN': 'Sociology', 'FId': 144024400},\n",
       "  {'DFN': 'Perspective-taking', 'FId': 2780342009}],\n",
       " 'journal': {'JN': 'harvard educational review', 'JId': 129458801},\n",
       " 'DOI': '10.17763/HAER.79.3.N0016675661T3N15',\n",
       " 'source': [{'U': 'http://www.hepgjournals.org/doi/abs/10.17763/haer.79.3.n0016675661t3n15?code=hepg-site&journalCode=haer'},\n",
       "  {'Ty': 3,\n",
       "   'U': 'http://dss.ucsd.edu/~rfrank/class_web/ES-114A/Week%204/TuckHEdR79-3.pdf'},\n",
       "  {'Ty': 3,\n",
       "   'U': 'http://pages.ucsd.edu/~rfrank/class_web/ES-114A/Week%204/TuckHEdR79-3.pdf'},\n",
       "  {'Ty': 3,\n",
       "   'U': 'http://weber.ucsd.edu/~rfrank/class_web/ES-114A/Week%204/TuckHEdR79-3.pdf'},\n",
       "  {'Ty': 1, 'U': 'https://eric.ed.gov/?id=EJ861866'},\n",
       "  {'Ty': 1,\n",
       "   'U': 'https://hepgjournals.org/doi/10.17763/haer.79.3.n0016675661t3n15'},\n",
       "  {'Ty': 1,\n",
       "   'U': 'https://meridian.allenpress.com/her/article/79/3/409/31956/Suspending-Damage-A-Letter-to-Communities'}],\n",
       " 'references': [2071275339]}"
      ]
     },
     "metadata": {},
     "execution_count": 2
    }
   ],
   "source": [
    "data[2]"
   ]
  },
  {
   "cell_type": "code",
   "execution_count": 3,
   "metadata": {},
   "outputs": [],
   "source": [
    "paper_lookup = {}\n",
    "for node in data:\n",
    "    paper_lookup[node[\"id\"]] = node"
   ]
  },
  {
   "cell_type": "code",
   "execution_count": 8,
   "metadata": {},
   "outputs": [
    {
     "output_type": "stream",
     "name": "stdout",
     "text": [
      "966\n"
     ]
    }
   ],
   "source": [
    "\n",
    "filename = \"institutions.json\"\n",
    "if os.path.isfile(filename):\n",
    "    with open(\"institutions.json\", \"r\") as f:\n",
    "        institutions = json.load(f)\n",
    "else:\n",
    "    institutions = {}\n",
    "    for node in data:\n",
    "        seen_inst_this_node = []\n",
    "        for a in node.get(\"authors\"):\n",
    "            id = a.get(\"AfId\")\n",
    "            if id and id not in seen_inst_this_node:\n",
    "                seen_inst_this_node.append(id)\n",
    "                if id not in institutions:\n",
    "                    institutions[id] = {\n",
    "                        \"id\": id,\n",
    "                        \"name\": a.get(\"DAfN\"),\n",
    "                        \"n_papers\": 0,\n",
    "                        \"n_citations\": 0,\n",
    "                        \"links\": {}\n",
    "                    }\n",
    "                institutions[id][\"n_papers\"] += 1\n",
    "                institutions[id][\"n_citations\"] += node[\"citation_count\"]\n",
    "                for ref in node[\"references\"]:\n",
    "                    other = paper_lookup[ref]\n",
    "                    for oa in other.get(\"authors\"):\n",
    "                        oid = oa.get(\"AfId\")\n",
    "                        if oid:\n",
    "                            if oid not in institutions[id][\"links\"]:\n",
    "                                institutions[id][\"links\"][oid] = 0\n",
    "                            institutions[id][\"links\"][oid] += 1\n",
    "    institutions = list(institutions.values())\n",
    "    print(len(institutions))\n",
    "    gmaps = googlemaps.Client(key='INSERT_KEY_HERE')\n",
    "    for inst in tqdm(institutions):\n",
    "        if \"geo\" not in inst:\n",
    "            inst[\"geo\"] = gmaps.geocode(inst[\"name\"])\n",
    "    with open(\"institutions.json\", \"w\") as f:\n",
    "        json.dump(institutions, f)\n",
    "\n",
    "print(len(institutions))"
   ]
  },
  {
   "cell_type": "code",
   "execution_count": 13,
   "metadata": {},
   "outputs": [
    {
     "output_type": "stream",
     "name": "stdout",
     "text": [
      "{'id': 1327163397, 'name': 'State University of New York System', 'n_papers': 3, 'n_citations': 435, 'links': {'174216632': 3, '223532165': 1}, 'geo': [{'address_components': [{'long_name': '353', 'short_name': '353', 'types': ['street_number']}, {'long_name': 'Broadway', 'short_name': 'Broadway', 'types': ['route']}, {'long_name': 'Downtown', 'short_name': 'Downtown', 'types': ['neighborhood', 'political']}, {'long_name': 'Albany', 'short_name': 'Albany', 'types': ['locality', 'political']}, {'long_name': 'Albany County', 'short_name': 'Albany County', 'types': ['administrative_area_level_2', 'political']}, {'long_name': 'New York', 'short_name': 'NY', 'types': ['administrative_area_level_1', 'political']}, {'long_name': 'United States', 'short_name': 'US', 'types': ['country', 'political']}, {'long_name': '12207', 'short_name': '12207', 'types': ['postal_code']}], 'formatted_address': '353 Broadway, Albany, NY 12207, USA', 'geometry': {'location': {'lat': 42.6480051, 'lng': -73.74948650000002}, 'location_type': 'ROOFTOP', 'viewport': {'northeast': {'lat': 42.64935408029149, 'lng': -73.74813751970852}, 'southwest': {'lat': 42.6466561197085, 'lng': -73.75083548029153}}}, 'place_id': 'ChIJVyXR7yAK3okRkDupqbVXVBQ', 'plus_code': {'compound_code': 'J7X2+66 Albany, NY, USA', 'global_code': '87J8J7X2+66'}, 'types': ['establishment', 'point_of_interest', 'university']}], 'date_published': '2009-10-06'}\n"
     ]
    }
   ],
   "source": [
    "for inst in institutions:\n",
    "    for node in data:\n",
    "        date = node.get(\"date_published\")\n",
    "        for a in node.get(\"authors\"):\n",
    "            if a.get(\"DAfN\") == inst[\"name\"]:\n",
    "                if not inst.get(\"date_published\") or inst.get(\"date_published\") > date:\n",
    "                    inst[\"date_published\"] = date\n",
    "print(institutions[0])"
   ]
  },
  {
   "cell_type": "code",
   "execution_count": 14,
   "metadata": {},
   "outputs": [
    {
     "output_type": "stream",
     "name": "stdout",
     "text": [
      "-rw-r--r-- 1 nyou045 nyou045 1.4M Dec  4 15:33 institutions.json\n"
     ]
    }
   ],
   "source": [
    "with open(\"institutions.json\", \"w\") as f:\n",
    "    json.dump(institutions, f)\n",
    "!ls -lah institutions.json"
   ]
  }
 ]
}